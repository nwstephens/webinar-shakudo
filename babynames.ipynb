{
 "cells": [
  {
   "cell_type": "markdown",
   "id": "416e4f1f",
   "metadata": {},
   "source": [
    "# cuDF vs Pandas speed comparison "
   ]
  },
  {
   "cell_type": "markdown",
   "id": "6d786a8c",
   "metadata": {},
   "source": [
    "Using popular baby names (6 million rows). \n",
    "\n",
    "*Baby name data by state provided by the US Social Security Administration. For the source data see [here](https://www.ssa.gov/oact/babynames/limits.html).*"
   ]
  },
  {
   "cell_type": "markdown",
   "id": "ad68b0b3",
   "metadata": {},
   "source": [
    "---\n",
    "### Download data"
   ]
  },
  {
   "cell_type": "code",
   "execution_count": 1,
   "id": "54755ccc",
   "metadata": {
    "tags": []
   },
   "outputs": [
    {
     "name": "stdout",
     "output_type": "stream",
     "text": [
      "skipping\n"
     ]
    }
   ],
   "source": [
    "%%script echo skipping\n",
    "%%capture\n",
    "%%bash\n",
    "wget \"https://www.ssa.gov/oact/babynames/state/namesbystate.zip\"\n",
    "unzip namesbystate.zip -d namesbystate && rm namesbystate.zip\n",
    "cat namesbystate/*.TXT >> namesbystate.csv\n",
    "rm -r namesbystate"
   ]
  },
  {
   "cell_type": "markdown",
   "id": "27252d0a",
   "metadata": {},
   "source": [
    "### Import libraries"
   ]
  },
  {
   "cell_type": "code",
   "execution_count": 2,
   "id": "6ca643ee",
   "metadata": {},
   "outputs": [],
   "source": [
    "import time\n",
    "import cudf as cd\n",
    "import pandas as pd\n",
    "import cupy as cp\n",
    "import numpy as np"
   ]
  },
  {
   "cell_type": "markdown",
   "id": "2a4285aa",
   "metadata": {},
   "source": [
    "----\n",
    "### Read data using Pandas"
   ]
  },
  {
   "cell_type": "code",
   "execution_count": 3,
   "id": "c4ba9ae7",
   "metadata": {},
   "outputs": [
    {
     "name": "stdout",
     "output_type": "stream",
     "text": [
      "Records: 6215834\n"
     ]
    },
    {
     "data": {
      "text/plain": [
       "2.5206143856048584"
      ]
     },
     "execution_count": 3,
     "metadata": {},
     "output_type": "execute_result"
    }
   ],
   "source": [
    "pd.DataFrame({'a': [0]}); # initialize cudf \n",
    "startTime = time.time()\n",
    "pdf = pd.read_csv('namesbystate.csv', names=[\"state\", \"sex\", \"year\", \"name\", \"rank\"])\n",
    "print(\"Records:\", len(pdf))\n",
    "time.time() - startTime"
   ]
  },
  {
   "cell_type": "markdown",
   "id": "1a24304a",
   "metadata": {},
   "source": [
    "\n",
    "### Read data using cuDF"
   ]
  },
  {
   "cell_type": "code",
   "execution_count": 4,
   "id": "a967c154",
   "metadata": {},
   "outputs": [
    {
     "name": "stdout",
     "output_type": "stream",
     "text": [
      "Records: 6215834\n"
     ]
    },
    {
     "data": {
      "text/plain": [
       "0.20464205741882324"
      ]
     },
     "execution_count": 4,
     "metadata": {},
     "output_type": "execute_result"
    }
   ],
   "source": [
    "cd.DataFrame({'a': [0]}); # initialize cudf \n",
    "startTime = time.time()\n",
    "cdf = cd.read_csv('namesbystate.csv', names=[\"state\", \"sex\", \"year\", \"name\", \"rank\"])\n",
    "print(\"Records:\", len(pdf))\n",
    "time.time() - startTime"
   ]
  },
  {
   "cell_type": "markdown",
   "id": "7a3ad22d",
   "metadata": {},
   "source": [
    "---\n",
    "### Aggregate data with Pandas"
   ]
  },
  {
   "cell_type": "code",
   "execution_count": 5,
   "id": "b7ee83db",
   "metadata": {},
   "outputs": [
    {
     "name": "stdout",
     "output_type": "stream",
     "text": [
      "                  state  rank\n",
      "year name    sex             \n",
      "1910 Aaron   M       13    13\n",
      "     Abbie   F        4     4\n",
      "     Abe     M        4     4\n",
      "     Abner   M        2     2\n",
      "     Abraham M        6     6\n",
      "...                 ...   ...\n",
      "2020 Zymere  M        1     1\n",
      "     Zymir   M        8     8\n",
      "     Zyon    M       14    14\n",
      "     Zyra    F        4     4\n",
      "     Zyrah   F        1     1\n",
      "\n",
      "[642570 rows x 2 columns]\n"
     ]
    },
    {
     "data": {
      "text/plain": [
       "1.7794814109802246"
      ]
     },
     "execution_count": 5,
     "metadata": {},
     "output_type": "execute_result"
    }
   ],
   "source": [
    "startTime = time.time()\n",
    "print(pdf.groupby([\"year\", \"name\", \"sex\"]).count())\n",
    "time.time() - startTime"
   ]
  },
  {
   "cell_type": "markdown",
   "id": "35439d83",
   "metadata": {},
   "source": [
    "### Aggregate data with cuDF"
   ]
  },
  {
   "cell_type": "code",
   "execution_count": 6,
   "id": "1d4607d0",
   "metadata": {},
   "outputs": [
    {
     "name": "stdout",
     "output_type": "stream",
     "text": [
      "                   state  rank\n",
      "year name     sex             \n",
      "1920 Fern     F       32    32\n",
      "1992 Jamila   F       18    18\n",
      "1999 Shannan  F        3     3\n",
      "1994 Tyree    M       21    21\n",
      "1945 Signe    F        1     1\n",
      "...                  ...   ...\n",
      "1999 Destin   M       19    19\n",
      "2012 Precious F       11    11\n",
      "1990 Tyresha  F        1     1\n",
      "     Shilpa   F        1     1\n",
      "1923 Lon      M        6     6\n",
      "\n",
      "[642570 rows x 2 columns]\n"
     ]
    },
    {
     "data": {
      "text/plain": [
       "0.08793067932128906"
      ]
     },
     "execution_count": 6,
     "metadata": {},
     "output_type": "execute_result"
    }
   ],
   "source": [
    "startTime = time.time()\n",
    "print(cdf.groupby([\"year\", \"name\", \"sex\"]).count())\n",
    "time.time() - startTime"
   ]
  },
  {
   "cell_type": "markdown",
   "id": "d983db6f",
   "metadata": {},
   "source": [
    "---\n",
    "### Simple linear model with Pandas"
   ]
  },
  {
   "cell_type": "code",
   "execution_count": 7,
   "id": "92e15c48",
   "metadata": {},
   "outputs": [
    {
     "data": {
      "text/plain": [
       "3.05558180809021"
      ]
     },
     "execution_count": 7,
     "metadata": {},
     "output_type": "execute_result"
    }
   ],
   "source": [
    "from sklearn.model_selection import train_test_split\n",
    "from sklearn.linear_model import LinearRegression\n",
    "\n",
    "lr = LinearRegression(fit_intercept=True, normalize=False)\n",
    "lr.fit(np.array([0,1.0]).reshape(-1, 1),np.array([0,1.0]))\n",
    "\n",
    "startTime = time.time()\n",
    "X = pdf[['year']]\n",
    "y = pdf['name'].str.len()\n",
    "x_train, x_test, y_train, y_test = train_test_split(X, y, test_size=0.1)\n",
    "model = lr.fit(x_train, y_train)\n",
    "lr.predict(x_test)\n",
    "time.time() - startTime"
   ]
  },
  {
   "cell_type": "markdown",
   "id": "eff697ff",
   "metadata": {},
   "source": [
    "### Simple linear model with cuDF"
   ]
  },
  {
   "cell_type": "code",
   "execution_count": 8,
   "id": "a05207a8",
   "metadata": {},
   "outputs": [
    {
     "data": {
      "text/plain": [
       "0.2588474750518799"
      ]
     },
     "execution_count": 8,
     "metadata": {},
     "output_type": "execute_result"
    }
   ],
   "source": [
    "from cuml import train_test_split\n",
    "from cuml import LinearRegression\n",
    "\n",
    "lr = LinearRegression(fit_intercept = True, normalize = False, algorithm='svd')\n",
    "lr.fit(cp.array([0,1.0]).reshape(-1, 1), cp.array([0,1.0]))\n",
    "\n",
    "startTime = time.time()\n",
    "X = cdf[['year']].astype('float32')\n",
    "y = cdf['name'].str.len()\n",
    "x_train, x_test, y_train, y_test = train_test_split(X, y, test_size=0.1)\n",
    "model = lr.fit(x_train, y_train)\n",
    "lr.predict(x_test)\n",
    "time.time() - startTime"
   ]
  },
  {
   "cell_type": "markdown",
   "id": "670e5120",
   "metadata": {},
   "source": [
    "---\n",
    "### Summary"
   ]
  },
  {
   "cell_type": "markdown",
   "id": "960d9d53",
   "metadata": {},
   "source": [
    "&nbsp;|Records|Pandas|cuDF|Improvement\n",
    "---|---:|---:|---:|---:\n",
    "Reading|6,215,834|2.52s|0.20s|**12.6x**\n",
    "Aggregating|642,570|1.81s|0.08s|**22.6x**\n",
    "Regression|5,594,251|3.08s|0.26s|**11.8x**"
   ]
  }
 ],
 "metadata": {
  "kernelspec": {
   "display_name": "Python 3",
   "language": "python",
   "name": "python3"
  },
  "language_info": {
   "codemirror_mode": {
    "name": "ipython",
    "version": 3
   },
   "file_extension": ".py",
   "mimetype": "text/x-python",
   "name": "python",
   "nbconvert_exporter": "python",
   "pygments_lexer": "ipython3",
   "version": "3.8.8"
  }
 },
 "nbformat": 4,
 "nbformat_minor": 5
}
